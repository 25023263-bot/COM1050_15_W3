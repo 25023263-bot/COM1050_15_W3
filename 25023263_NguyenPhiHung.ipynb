{
 "cells": [
  {
   "cell_type": "code",
   "execution_count": 3,
   "id": "36ddb168-dfbf-44ac-a6b1-25b6c48538b3",
   "metadata": {},
   "outputs": [
    {
     "name": "stdout",
     "output_type": "stream",
     "text": [
      "2 1\n"
     ]
    }
   ],
   "source": [
    "def hoan_doi(a,b):\n",
    "    a,b = b,a\n",
    "    print(a,b)\n",
    "a = 1\n",
    "b = 2\n",
    "hoan_doi(a, b)"
   ]
  },
  {
   "cell_type": "code",
   "execution_count": null,
   "id": "84638d28-67c9-4dec-9d42-e6463713f8ce",
   "metadata": {},
   "outputs": [],
   "source": []
  }
 ],
 "metadata": {
  "kernelspec": {
   "display_name": "Python 3 (ipykernel)",
   "language": "python",
   "name": "python3"
  },
  "language_info": {
   "codemirror_mode": {
    "name": "ipython",
    "version": 3
   },
   "file_extension": ".py",
   "mimetype": "text/x-python",
   "name": "python",
   "nbconvert_exporter": "python",
   "pygments_lexer": "ipython3",
   "version": "3.13.5"
  }
 },
 "nbformat": 4,
 "nbformat_minor": 5
}
