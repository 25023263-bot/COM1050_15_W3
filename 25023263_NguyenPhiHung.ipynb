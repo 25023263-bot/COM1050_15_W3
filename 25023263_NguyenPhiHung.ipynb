{
 "cells": [
  {
   "cell_type": "markdown",
   "id": "a000f371-438f-409a-a7c1-745e6c63be12",
   "metadata": {
    "jp-MarkdownHeadingCollapsed": true
   },
   "source": [
    "### A2"
   ]
  },
  {
   "cell_type": "code",
   "execution_count": null,
   "id": "afe8f18f-1502-4d03-81b4-855f2a9b97bf",
   "metadata": {},
   "outputs": [],
   "source": [
    "def hoan_doi(a,b):\n",
    "    a = a ^ b\n",
    "    b = b ^ a\n",
    "    a = a ^ b \n",
    "    print(a,b)\n",
    "a = 5\n",
    "b = 3\n",
    "hoan_doi(a, b)"
   ]
  },
  {
   "cell_type": "markdown",
   "id": "603bf4ef-69e1-4030-8025-30ae0348340e",
   "metadata": {
    "jp-MarkdownHeadingCollapsed": true
   },
   "source": [
    "### A3"
   ]
  },
  {
   "cell_type": "code",
   "execution_count": 4,
   "id": "fd6f215a-3a24-4605-ad1d-5d2c5278f050",
   "metadata": {},
   "outputs": [
    {
     "name": "stdin",
     "output_type": "stream",
     "text": [
      " 4\n"
     ]
    },
    {
     "name": "stdout",
     "output_type": "stream",
     "text": [
      "4 là lũy thừa của 2\n"
     ]
    }
   ],
   "source": [
    "x = int(input())\n",
    "if x&(x-1) == 0:\n",
    "    print(f\"{x} là lũy thừa của 2\")\n",
    "else:\n",
    "    print(f\"{x} ko phải lũy thừa của 2\")"
   ]
  },
  {
   "cell_type": "markdown",
   "id": "2042863d-ae38-4b20-b04e-e525ff370bca",
   "metadata": {
    "jp-MarkdownHeadingCollapsed": true
   },
   "source": [
    "### A4"
   ]
  },
  {
   "cell_type": "code",
   "execution_count": 8,
   "id": "98ab8160-2c74-4326-b327-890babf68c4f",
   "metadata": {},
   "outputs": [
    {
     "name": "stdin",
     "output_type": "stream",
     "text": [
      " 1 0\n"
     ]
    },
    {
     "name": "stdout",
     "output_type": "stream",
     "text": [
      "lỗi\n"
     ]
    }
   ],
   "source": [
    "import math\n",
    "m, n = map(float, input().split())\n",
    "if n!=0:\n",
    "  print(math.floor(m / n))\n",
    "else:\n",
    "    print(\"lỗi\")"
   ]
  },
  {
   "cell_type": "markdown",
   "id": "ea6cb680-a59e-4015-8c46-8e4e6de60587",
   "metadata": {
    "jp-MarkdownHeadingCollapsed": true
   },
   "source": [
    "### A5"
   ]
  },
  {
   "cell_type": "code",
   "execution_count": 9,
   "id": "f8752fbc-d66e-4267-a6ca-cb165b5e4e0d",
   "metadata": {},
   "outputs": [
    {
     "name": "stdin",
     "output_type": "stream",
     "text": [
      " 7 5\n"
     ]
    },
    {
     "name": "stdout",
     "output_type": "stream",
     "text": [
      "2\n"
     ]
    }
   ],
   "source": [
    "import math\n",
    "m, n = map(float, input().split())\n",
    "if n!=0:\n",
    "  print(math.ceil(m / n))\n",
    "else:\n",
    "    print(\"lỗi\")"
   ]
  },
  {
   "cell_type": "markdown",
   "id": "521a5fa3-3db9-4147-b21d-32df758dac41",
   "metadata": {
    "jp-MarkdownHeadingCollapsed": true
   },
   "source": [
    "### A6"
   ]
  },
  {
   "cell_type": "code",
   "execution_count": 13,
   "id": "6fe2ea01-0fb1-4e37-8261-fd639125a354",
   "metadata": {},
   "outputs": [
    {
     "name": "stdin",
     "output_type": "stream",
     "text": [
      " 10\n"
     ]
    },
    {
     "name": "stdout",
     "output_type": "stream",
     "text": [
      "10 is even\n"
     ]
    }
   ],
   "source": [
    "x = int(input())\n",
    "if x % 2 == 0:\n",
    "    print(f\"{x} is even\")\n",
    "elif x <= 0:\n",
    "    print(\"lỗi\")\n",
    "else:\n",
    "    print(f\"{x} is odd\")"
   ]
  },
  {
   "cell_type": "markdown",
   "id": "bc1c3e7f-98c8-4fbe-bd0c-bc9eeb1602d0",
   "metadata": {
    "jp-MarkdownHeadingCollapsed": true
   },
   "source": [
    "### A7"
   ]
  },
  {
   "cell_type": "code",
   "execution_count": 20,
   "id": "d667983c-7d28-4e41-af5b-d04eca8963f7",
   "metadata": {},
   "outputs": [
    {
     "name": "stdin",
     "output_type": "stream",
     "text": [
      " -2 1\n"
     ]
    },
    {
     "name": "stdout",
     "output_type": "stream",
     "text": [
      "No\n"
     ]
    }
   ],
   "source": [
    "a, b = map(int, input().split())\n",
    "if a<0 and b<0:\n",
    "    print(\"Yes\")\n",
    "else:\n",
    "    print(\"No\")"
   ]
  },
  {
   "cell_type": "markdown",
   "id": "5788beef-8d7a-4d74-96c6-dedd1bba3517",
   "metadata": {
    "jp-MarkdownHeadingCollapsed": true
   },
   "source": [
    "### A8"
   ]
  },
  {
   "cell_type": "code",
   "execution_count": 22,
   "id": "91bc685e-5a8b-48fd-bae4-5dd6dd0a3f88",
   "metadata": {},
   "outputs": [
    {
     "name": "stdin",
     "output_type": "stream",
     "text": [
      " adadadad ada\n"
     ]
    },
    {
     "name": "stdout",
     "output_type": "stream",
     "text": [
      "True\n"
     ]
    }
   ],
   "source": [
    "a, b = input().split()\n",
    "if len(a) > len(b):\n",
    "    print(\"True\")\n",
    "else:\n",
    "    print(\"False\")\n"
   ]
  },
  {
   "cell_type": "markdown",
   "id": "6374cef5-46c8-4e7a-9e6b-532f7b21424b",
   "metadata": {
    "jp-MarkdownHeadingCollapsed": true
   },
   "source": [
    "### A9"
   ]
  },
  {
   "cell_type": "code",
   "execution_count": 27,
   "id": "d22acc56-e3ca-4a95-bebb-a03c6bd32406",
   "metadata": {},
   "outputs": [
    {
     "name": "stdin",
     "output_type": "stream",
     "text": [
      " 3 4 5\n"
     ]
    },
    {
     "name": "stdout",
     "output_type": "stream",
     "text": [
      "Yes\n"
     ]
    }
   ],
   "source": [
    "a, b, c = map(int, input().split())\n",
    "if a<=0 or b<=0 or c<=0:\n",
    "    print(\"No\")\n",
    "elif a<b+c and b<a+c and c<a+b:\n",
    "    print(\"Yes\")\n",
    "else:\n",
    "    print(\"No\")"
   ]
  },
  {
   "cell_type": "markdown",
   "id": "b53e7817-f3fa-4664-ba65-65bc26fd8820",
   "metadata": {
    "jp-MarkdownHeadingCollapsed": true
   },
   "source": [
    "### A10"
   ]
  },
  {
   "cell_type": "code",
   "execution_count": 29,
   "id": "b4decd97-15a3-4bf3-afe1-cc32a5f1e148",
   "metadata": {},
   "outputs": [
    {
     "name": "stdin",
     "output_type": "stream",
     "text": [
      " 1 2 3 4\n"
     ]
    },
    {
     "name": "stdout",
     "output_type": "stream",
     "text": [
      "4\n"
     ]
    }
   ],
   "source": [
    "a, b, c, d = map(int, input().split())\n",
    "so_lon_nhat = max(a,b,c,d)\n",
    "print(so_lon_nhat)\n",
    "    "
   ]
  },
  {
   "cell_type": "markdown",
   "id": "6144fba4-4c98-4ba2-98dd-e68e4ada4b37",
   "metadata": {
    "jp-MarkdownHeadingCollapsed": true
   },
   "source": [
    "### A11"
   ]
  },
  {
   "cell_type": "code",
   "execution_count": 31,
   "id": "8c0c63a3-462e-494b-abdf-9788effd2433",
   "metadata": {},
   "outputs": [
    {
     "name": "stdin",
     "output_type": "stream",
     "text": [
      " 3 3 3\n"
     ]
    },
    {
     "name": "stdout",
     "output_type": "stream",
     "text": [
      "Tam giác đều\n"
     ]
    }
   ],
   "source": [
    "a, b, c = map(int, input().split())\n",
    "if a<=0 or b<=0 or c<=0:\n",
    "    print(\"Không phải tam giác\")\n",
    "elif a<b+c and b<a+c and c<a+b:\n",
    "    if a==b or b==c or a==c:\n",
    "       if a==b and b==c:\n",
    "           print(\"Tam giác đều\")\n",
    "       else:\n",
    "           print(\"Tam giác cân\")\n",
    "    else:\n",
    "        print(\"Tam giác thường\")\n",
    "else:\n",
    "    print(\"Không phải tam giác\")"
   ]
  },
  {
   "cell_type": "markdown",
   "id": "f060f7f7-0d5f-44e3-b5f5-a9447c99ec5d",
   "metadata": {},
   "source": [
    "### A12"
   ]
  },
  {
   "cell_type": "code",
   "execution_count": 33,
   "id": "a1b6eedd-cc34-4b8b-a1f1-8e21551775fa",
   "metadata": {},
   "outputs": [
    {
     "name": "stdin",
     "output_type": "stream",
     "text": [
      " 2024\n"
     ]
    },
    {
     "name": "stdout",
     "output_type": "stream",
     "text": [
      "Yes\n"
     ]
    }
   ],
   "source": [
    "year = int(input())\n",
    "if year <= 0:\n",
    "    print(\"lỗi\")\n",
    "elif year%4==0 and year%100!=0:\n",
    "    print(\"Yes\")\n",
    "else:\n",
    "    print(\"No\")"
   ]
  },
  {
   "cell_type": "markdown",
   "id": "8ad0955c-add1-426b-a3fa-fda56e8f264d",
   "metadata": {},
   "source": [
    "### A14"
   ]
  },
  {
   "cell_type": "code",
   "execution_count": 38,
   "id": "01c9238e-3dc4-4e66-9230-fa58b09c3a18",
   "metadata": {},
   "outputs": [
    {
     "name": "stdin",
     "output_type": "stream",
     "text": [
      " 3 5\n"
     ]
    },
    {
     "name": "stdout",
     "output_type": "stream",
     "text": [
      "-1.67\n"
     ]
    }
   ],
   "source": [
    "a, b = map(float, input().split())\n",
    "if a == 0:\n",
    "    if b == 0:\n",
    "        print(\"Vô số nghiệm\")\n",
    "    else:\n",
    "        print(\"Vô nghiệm\")\n",
    "else:\n",
    "    x = -b/a\n",
    "    print(f\"{x:.2f}\")\n"
   ]
  },
  {
   "cell_type": "markdown",
   "id": "4f307894-a792-4ee7-a9d8-76e3c5400947",
   "metadata": {},
   "source": [
    "### A15"
   ]
  },
  {
   "cell_type": "code",
   "execution_count": 42,
   "id": "36b58d99-c6fd-4270-878c-c6cf5915b44f",
   "metadata": {},
   "outputs": [
    {
     "name": "stdin",
     "output_type": "stream",
     "text": [
      " 8.9\n"
     ]
    },
    {
     "name": "stdout",
     "output_type": "stream",
     "text": [
      "giỏi\n"
     ]
    }
   ],
   "source": [
    "def hoc_luc(a):\n",
    "    if a<0 or a>10:\n",
    "        print(\"lỗi\")\n",
    "    elif a>=8:\n",
    "        print(\"giỏi\")\n",
    "    elif a>=6.5:\n",
    "        print(\"khá\")\n",
    "    elif a>=5:\n",
    "        print(\"trung bình\")\n",
    "    else:\n",
    "        print(\"yếu\")\n",
    "hoc_luc(float(input()))"
   ]
  },
  {
   "cell_type": "markdown",
   "id": "387bb98f-24e5-49d7-a67b-82c29e8057a5",
   "metadata": {},
   "source": [
    "### A16"
   ]
  },
  {
   "cell_type": "code",
   "execution_count": 46,
   "id": "34243a53-81e7-41b6-a258-f704b98a91bd",
   "metadata": {},
   "outputs": [
    {
     "name": "stdin",
     "output_type": "stream",
     "text": [
      " 4.6\n"
     ]
    },
    {
     "name": "stdout",
     "output_type": "stream",
     "text": [
      "Làm tròn lên:5 Làm tròn xuống:4 Làm tròn:5\n"
     ]
    }
   ],
   "source": [
    "import math\n",
    "a = float(input())\n",
    "print(f\"Làm tròn lên:{math.ceil(a)} Làm tròn xuống:{math.floor(a)} Làm tròn:{round(a)}\")"
   ]
  },
  {
   "cell_type": "markdown",
   "id": "aec757a9-d2b1-4f9c-b6da-b7634759474f",
   "metadata": {},
   "source": [
    "### A17"
   ]
  },
  {
   "cell_type": "code",
   "execution_count": 48,
   "id": "e1ee0377-26d2-4516-921d-ae70718d5915",
   "metadata": {},
   "outputs": [
    {
     "name": "stdin",
     "output_type": "stream",
     "text": [
      " 0 0 0 0\n"
     ]
    },
    {
     "ename": "ZeroDivisionError",
     "evalue": "division by zero",
     "output_type": "error",
     "traceback": [
      "\u001b[31m---------------------------------------------------------------------------\u001b[39m",
      "\u001b[31mZeroDivisionError\u001b[39m                         Traceback (most recent call last)",
      "\u001b[36mCell\u001b[39m\u001b[36m \u001b[39m\u001b[32mIn[48]\u001b[39m\u001b[32m, line 2\u001b[39m\n\u001b[32m      1\u001b[39m a, b, c, d = \u001b[38;5;28mmap\u001b[39m(\u001b[38;5;28mint\u001b[39m, \u001b[38;5;28minput\u001b[39m().split())\n\u001b[32m----> \u001b[39m\u001b[32m2\u001b[39m boi = \u001b[43mb\u001b[49m\u001b[43m/\u001b[49m\u001b[43ma\u001b[49m\n\u001b[32m      3\u001b[39m \u001b[38;5;28;01mif\u001b[39;00m a == \u001b[32m0\u001b[39m \u001b[38;5;129;01mand\u001b[39;00m b==\u001b[32m0\u001b[39m \u001b[38;5;129;01mand\u001b[39;00m c==\u001b[32m0\u001b[39m \u001b[38;5;129;01mand\u001b[39;00m d==\u001b[32m0\u001b[39m:\n\u001b[32m      4\u001b[39m     \u001b[38;5;28mprint\u001b[39m(\u001b[33m\"\u001b[39m\u001b[33mcấp số nhân\u001b[39m\u001b[33m\"\u001b[39m)\n",
      "\u001b[31mZeroDivisionError\u001b[39m: division by zero"
     ]
    }
   ],
   "source": [
    "a, b, c, d = map(int, input().split())\n",
    "boi = b/a\n",
    "if a == 0 and b==0 and c==0 and d==0:\n",
    "    print(\"cấp số nhân\")\n",
    "elif a != 0 and b != 0 and c!=0 and d!=0:\n",
    "    if boi == c/b and boi == d/c:\n",
    "        print(\"csn\")\n",
    "    else:\n",
    "        print(\"ko phải csn\")\n",
    "else:\n",
    "    print(\"ko phải csn\")\n"
   ]
  },
  {
   "cell_type": "code",
   "execution_count": null,
   "id": "3cddc86e-e027-4676-b0a8-08e610c3b2ec",
   "metadata": {},
   "outputs": [],
   "source": []
  }
 ],
 "metadata": {
  "kernelspec": {
   "display_name": "Python 3 (ipykernel)",
   "language": "python",
   "name": "python3"
  },
  "language_info": {
   "codemirror_mode": {
    "name": "ipython",
    "version": 3
   },
   "file_extension": ".py",
   "mimetype": "text/x-python",
   "name": "python",
   "nbconvert_exporter": "python",
   "pygments_lexer": "ipython3",
   "version": "3.13.5"
  }
 },
 "nbformat": 4,
 "nbformat_minor": 5
}
